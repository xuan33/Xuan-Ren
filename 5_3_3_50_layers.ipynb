{
  "nbformat": 4,
  "nbformat_minor": 0,
  "metadata": {
    "colab": {
      "name": "5*3*3_50_layers.ipynb",
      "provenance": [],
      "collapsed_sections": []
    },
    "kernelspec": {
      "name": "python3",
      "display_name": "Python 3"
    },
    "accelerator": "GPU",
    "widgets": {
      "application/vnd.jupyter.widget-state+json": {
        "c1dcf91cf05f49fcabcc521e7d53a421": {
          "model_module": "@jupyter-widgets/controls",
          "model_name": "HBoxModel",
          "state": {
            "_view_name": "HBoxView",
            "_dom_classes": [],
            "_model_name": "HBoxModel",
            "_view_module": "@jupyter-widgets/controls",
            "_model_module_version": "1.5.0",
            "_view_count": null,
            "_view_module_version": "1.5.0",
            "box_style": "",
            "layout": "IPY_MODEL_de50338050ad411a8334e4eada086036",
            "_model_module": "@jupyter-widgets/controls",
            "children": [
              "IPY_MODEL_76fe6e549942401895303b34669ecb44",
              "IPY_MODEL_e706e3d4454c4f73921cc4c4b5e9af84"
            ]
          }
        },
        "de50338050ad411a8334e4eada086036": {
          "model_module": "@jupyter-widgets/base",
          "model_name": "LayoutModel",
          "state": {
            "_view_name": "LayoutView",
            "grid_template_rows": null,
            "right": null,
            "justify_content": null,
            "_view_module": "@jupyter-widgets/base",
            "overflow": null,
            "_model_module_version": "1.2.0",
            "_view_count": null,
            "flex_flow": null,
            "width": null,
            "min_width": null,
            "border": null,
            "align_items": null,
            "bottom": null,
            "_model_module": "@jupyter-widgets/base",
            "top": null,
            "grid_column": null,
            "overflow_y": null,
            "overflow_x": null,
            "grid_auto_flow": null,
            "grid_area": null,
            "grid_template_columns": null,
            "flex": null,
            "_model_name": "LayoutModel",
            "justify_items": null,
            "grid_row": null,
            "max_height": null,
            "align_content": null,
            "visibility": null,
            "align_self": null,
            "height": null,
            "min_height": null,
            "padding": null,
            "grid_auto_rows": null,
            "grid_gap": null,
            "max_width": null,
            "order": null,
            "_view_module_version": "1.2.0",
            "grid_template_areas": null,
            "object_position": null,
            "object_fit": null,
            "grid_auto_columns": null,
            "margin": null,
            "display": null,
            "left": null
          }
        },
        "76fe6e549942401895303b34669ecb44": {
          "model_module": "@jupyter-widgets/controls",
          "model_name": "FloatProgressModel",
          "state": {
            "_view_name": "ProgressView",
            "style": "IPY_MODEL_8f8d40a0c96542e39aaaf0f1b812e8dd",
            "_dom_classes": [],
            "description": "",
            "_model_name": "FloatProgressModel",
            "bar_style": "success",
            "max": 1,
            "_view_module": "@jupyter-widgets/controls",
            "_model_module_version": "1.5.0",
            "value": 1,
            "_view_count": null,
            "_view_module_version": "1.5.0",
            "orientation": "horizontal",
            "min": 0,
            "description_tooltip": null,
            "_model_module": "@jupyter-widgets/controls",
            "layout": "IPY_MODEL_e4bf6520b93343659f251de8d0259017"
          }
        },
        "e706e3d4454c4f73921cc4c4b5e9af84": {
          "model_module": "@jupyter-widgets/controls",
          "model_name": "HTMLModel",
          "state": {
            "_view_name": "HTMLView",
            "style": "IPY_MODEL_02535e2ab0954deca0b46745e2f8d2b4",
            "_dom_classes": [],
            "description": "",
            "_model_name": "HTMLModel",
            "placeholder": "​",
            "_view_module": "@jupyter-widgets/controls",
            "_model_module_version": "1.5.0",
            "value": " 170500096/? [00:08&lt;00:00, 21082189.81it/s]",
            "_view_count": null,
            "_view_module_version": "1.5.0",
            "description_tooltip": null,
            "_model_module": "@jupyter-widgets/controls",
            "layout": "IPY_MODEL_d5c2e0a881af412c800f428b0dea5398"
          }
        },
        "8f8d40a0c96542e39aaaf0f1b812e8dd": {
          "model_module": "@jupyter-widgets/controls",
          "model_name": "ProgressStyleModel",
          "state": {
            "_view_name": "StyleView",
            "_model_name": "ProgressStyleModel",
            "description_width": "initial",
            "_view_module": "@jupyter-widgets/base",
            "_model_module_version": "1.5.0",
            "_view_count": null,
            "_view_module_version": "1.2.0",
            "bar_color": null,
            "_model_module": "@jupyter-widgets/controls"
          }
        },
        "e4bf6520b93343659f251de8d0259017": {
          "model_module": "@jupyter-widgets/base",
          "model_name": "LayoutModel",
          "state": {
            "_view_name": "LayoutView",
            "grid_template_rows": null,
            "right": null,
            "justify_content": null,
            "_view_module": "@jupyter-widgets/base",
            "overflow": null,
            "_model_module_version": "1.2.0",
            "_view_count": null,
            "flex_flow": null,
            "width": null,
            "min_width": null,
            "border": null,
            "align_items": null,
            "bottom": null,
            "_model_module": "@jupyter-widgets/base",
            "top": null,
            "grid_column": null,
            "overflow_y": null,
            "overflow_x": null,
            "grid_auto_flow": null,
            "grid_area": null,
            "grid_template_columns": null,
            "flex": null,
            "_model_name": "LayoutModel",
            "justify_items": null,
            "grid_row": null,
            "max_height": null,
            "align_content": null,
            "visibility": null,
            "align_self": null,
            "height": null,
            "min_height": null,
            "padding": null,
            "grid_auto_rows": null,
            "grid_gap": null,
            "max_width": null,
            "order": null,
            "_view_module_version": "1.2.0",
            "grid_template_areas": null,
            "object_position": null,
            "object_fit": null,
            "grid_auto_columns": null,
            "margin": null,
            "display": null,
            "left": null
          }
        },
        "02535e2ab0954deca0b46745e2f8d2b4": {
          "model_module": "@jupyter-widgets/controls",
          "model_name": "DescriptionStyleModel",
          "state": {
            "_view_name": "StyleView",
            "_model_name": "DescriptionStyleModel",
            "description_width": "",
            "_view_module": "@jupyter-widgets/base",
            "_model_module_version": "1.5.0",
            "_view_count": null,
            "_view_module_version": "1.2.0",
            "_model_module": "@jupyter-widgets/controls"
          }
        },
        "d5c2e0a881af412c800f428b0dea5398": {
          "model_module": "@jupyter-widgets/base",
          "model_name": "LayoutModel",
          "state": {
            "_view_name": "LayoutView",
            "grid_template_rows": null,
            "right": null,
            "justify_content": null,
            "_view_module": "@jupyter-widgets/base",
            "overflow": null,
            "_model_module_version": "1.2.0",
            "_view_count": null,
            "flex_flow": null,
            "width": null,
            "min_width": null,
            "border": null,
            "align_items": null,
            "bottom": null,
            "_model_module": "@jupyter-widgets/base",
            "top": null,
            "grid_column": null,
            "overflow_y": null,
            "overflow_x": null,
            "grid_auto_flow": null,
            "grid_area": null,
            "grid_template_columns": null,
            "flex": null,
            "_model_name": "LayoutModel",
            "justify_items": null,
            "grid_row": null,
            "max_height": null,
            "align_content": null,
            "visibility": null,
            "align_self": null,
            "height": null,
            "min_height": null,
            "padding": null,
            "grid_auto_rows": null,
            "grid_gap": null,
            "max_width": null,
            "order": null,
            "_view_module_version": "1.2.0",
            "grid_template_areas": null,
            "object_position": null,
            "object_fit": null,
            "grid_auto_columns": null,
            "margin": null,
            "display": null,
            "left": null
          }
        }
      }
    }
  },
  "cells": [
    {
      "cell_type": "code",
      "metadata": {
        "id": "mXj52Vm7WBv_",
        "colab_type": "code",
        "colab": {}
      },
      "source": [
        "import torch\n",
        "import torchvision\n",
        "import torchvision.transforms as transforms "
      ],
      "execution_count": null,
      "outputs": []
    },
    {
      "cell_type": "code",
      "metadata": {
        "id": "WnakXPkbu107",
        "colab_type": "code",
        "colab": {
          "base_uri": "https://localhost:8080/",
          "height": 34
        },
        "outputId": "154d68a3-13de-4a50-c5d5-a7c5de990ba2"
      },
      "source": [
        "device = torch.device(\"cuda:0\" if torch.cuda.is_available() else \"cpu\")\n",
        "\n",
        "# Assuming that we are on a CUDA machine, this should print a CUDA device:\n",
        "\n",
        "print(device)"
      ],
      "execution_count": null,
      "outputs": [
        {
          "output_type": "stream",
          "text": [
            "cuda:0\n"
          ],
          "name": "stdout"
        }
      ]
    },
    {
      "cell_type": "code",
      "metadata": {
        "id": "b6sv7oN2c8ky",
        "colab_type": "code",
        "colab": {
          "base_uri": "https://localhost:8080/",
          "height": 100,
          "referenced_widgets": [
            "c1dcf91cf05f49fcabcc521e7d53a421",
            "de50338050ad411a8334e4eada086036",
            "76fe6e549942401895303b34669ecb44",
            "e706e3d4454c4f73921cc4c4b5e9af84",
            "8f8d40a0c96542e39aaaf0f1b812e8dd",
            "e4bf6520b93343659f251de8d0259017",
            "02535e2ab0954deca0b46745e2f8d2b4",
            "d5c2e0a881af412c800f428b0dea5398"
          ]
        },
        "outputId": "0b70a1bc-2ad7-467c-8434-7bd9e1930d8b"
      },
      "source": [
        "transform = transforms.Compose(\n",
        "    [transforms.ToTensor(),\n",
        "     transforms.Normalize((0.5, 0.5, 0.5), (0.5, 0.5, 0.5))])\n",
        "\n",
        "trainset = torchvision.datasets.CIFAR10(root='./data', train=True,\n",
        "                                        download=True, transform=transform)\n",
        "trainloader = torch.utils.data.DataLoader(trainset, batch_size=4,\n",
        "                                          shuffle=True, num_workers=2)\n",
        "\n",
        "testset = torchvision.datasets.CIFAR10(root='./data', train=False,\n",
        "                                       download=True, transform=transform)\n",
        "testloader = torch.utils.data.DataLoader(testset, batch_size=4,\n",
        "                                         shuffle=False, num_workers=2)\n",
        "\n",
        "classes = ('plane', 'car', 'bird', 'cat',\n",
        "           'deer', 'dog', 'frog', 'horse', 'ship', 'truck')"
      ],
      "execution_count": null,
      "outputs": [
        {
          "output_type": "stream",
          "text": [
            "Downloading https://www.cs.toronto.edu/~kriz/cifar-10-python.tar.gz to ./data/cifar-10-python.tar.gz\n"
          ],
          "name": "stdout"
        },
        {
          "output_type": "display_data",
          "data": {
            "application/vnd.jupyter.widget-view+json": {
              "model_id": "c1dcf91cf05f49fcabcc521e7d53a421",
              "version_minor": 0,
              "version_major": 2
            },
            "text/plain": [
              "HBox(children=(FloatProgress(value=1.0, bar_style='info', max=1.0), HTML(value='')))"
            ]
          },
          "metadata": {
            "tags": []
          }
        },
        {
          "output_type": "stream",
          "text": [
            "Extracting ./data/cifar-10-python.tar.gz to ./data\n",
            "Files already downloaded and verified\n"
          ],
          "name": "stdout"
        }
      ]
    },
    {
      "cell_type": "code",
      "metadata": {
        "id": "A-x2X85mWIB3",
        "colab_type": "code",
        "colab": {
          "base_uri": "https://localhost:8080/",
          "height": 51
        },
        "outputId": "23236564-5c97-4c4f-d64e-78ded4d7e077"
      },
      "source": [
        "print (len(trainset))\n",
        "print (len(trainloader))"
      ],
      "execution_count": null,
      "outputs": [
        {
          "output_type": "stream",
          "text": [
            "50000\n",
            "12500\n"
          ],
          "name": "stdout"
        }
      ]
    },
    {
      "cell_type": "code",
      "metadata": {
        "id": "eytovxSOWX1I",
        "colab_type": "code",
        "colab": {
          "base_uri": "https://localhost:8080/",
          "height": 408
        },
        "outputId": "3286da70-e5eb-4161-dcd4-00df09027ec5"
      },
      "source": [
        "trainset[1]"
      ],
      "execution_count": null,
      "outputs": [
        {
          "output_type": "execute_result",
          "data": {
            "text/plain": [
              "(tensor([[[ 0.2078, -0.0118, -0.1765,  ..., -0.2863, -0.3176, -0.3804],\n",
              "          [ 0.0980,  0.1373, -0.0196,  ..., -0.2471, -0.3961, -0.4431],\n",
              "          [ 0.0980,  0.0902, -0.0980,  ..., -0.3804, -0.4667, -0.4745],\n",
              "          ...,\n",
              "          [ 0.3725,  0.2235,  0.2078,  ..., -0.6706, -0.5216, -0.2706],\n",
              "          [ 0.2941,  0.2235,  0.2471,  ..., -0.1922, -0.0353,  0.0275],\n",
              "          [ 0.2784,  0.2392,  0.2784,  ...,  0.1216,  0.1216,  0.1216]],\n",
              " \n",
              "         [[ 0.3882,  0.0745, -0.1843,  ..., -0.2549, -0.2941, -0.3647],\n",
              "          [ 0.2549,  0.2000, -0.0196,  ..., -0.2235, -0.3725, -0.4275],\n",
              "          [ 0.2157,  0.1451, -0.0980,  ..., -0.3569, -0.4510, -0.4588],\n",
              "          ...,\n",
              "          [ 0.3098,  0.2078,  0.2549,  ..., -0.7333, -0.5843, -0.3490],\n",
              "          [ 0.2078,  0.1922,  0.2627,  ..., -0.2706, -0.1059, -0.0510],\n",
              "          [ 0.1608,  0.1608,  0.2235,  ...,  0.0431,  0.0510,  0.0431]],\n",
              " \n",
              "         [[ 0.4667,  0.0667, -0.2549,  ..., -0.4431, -0.4431, -0.4510],\n",
              "          [ 0.3255,  0.2078, -0.0745,  ..., -0.3882, -0.5137, -0.5216],\n",
              "          [ 0.2863,  0.1686, -0.1216,  ..., -0.4980, -0.5686, -0.5686],\n",
              "          ...,\n",
              "          [ 0.3020,  0.2549,  0.3333,  ..., -0.7176, -0.5529, -0.2863],\n",
              "          [ 0.0039,  0.0196,  0.1137,  ..., -0.2471, -0.0588,  0.0275],\n",
              "          [-0.0588, -0.0431,  0.0431,  ...,  0.0902,  0.1137,  0.1294]]]), 9)"
            ]
          },
          "metadata": {
            "tags": []
          },
          "execution_count": 5
        }
      ]
    },
    {
      "cell_type": "code",
      "metadata": {
        "id": "oCp4-t9IWn4R",
        "colab_type": "code",
        "colab": {
          "base_uri": "https://localhost:8080/",
          "height": 172
        },
        "outputId": "62ccc31a-ee80-4632-9f57-a9d189c7da46"
      },
      "source": [
        "import matplotlib.pyplot as plt\n",
        "import numpy as np\n",
        "\n",
        "# functions to show an image\n",
        "\n",
        "\n",
        "def imshow(img):\n",
        "    img = img / 2 + 0.5     # unnormalize\n",
        "    npimg = img.numpy()\n",
        "    plt.imshow(np.transpose(npimg, (1, 2, 0)))\n",
        "    plt.show()\n",
        "\n",
        "\n",
        "# get some random training images\n",
        "dataiter = iter(trainloader)\n",
        "images, labels = dataiter.next()\n",
        "\n",
        "# show images\n",
        "imshow(torchvision.utils.make_grid(images))\n",
        "# print labels\n",
        "print(' '.join('%5s' % classes[labels[j]] for j in range(4)))"
      ],
      "execution_count": null,
      "outputs": [
        {
          "output_type": "display_data",
          "data": {
            "image/png": "[encoded data removed]",
            "text/plain": [
              "<Figure size 432x288 with 1 Axes>"
            ]
          },
          "metadata": {
            "tags": [],
            "needs_background": "light"
          }
        },
        {
          "output_type": "stream",
          "text": [
            "\n",
            "truck  frog horse horse\n"
          ],
          "name": "stdout"
        }
      ]
    },
    {
      "cell_type": "code",
      "metadata": {
        "id": "n6NVRJiiWn7q",
        "colab_type": "code",
        "colab": {}
      },
      "source": [
        "import torch.nn as nn\n",
        "import torch.nn.functional as F\n",
        "\n",
        "\n",
        "class Net(nn.Module):\n",
        "    def __init__(self):\n",
        "        super(Net, self).__init__()\n",
        "        self.conv1 = nn.Conv2d(3, 6, 5)\n",
        "        self.pool = nn.MaxPool2d(2, 2)\n",
        "        self.conv2 = nn.Conv2d(6, 16, 3)\n",
        "        # self.pool = nn.MaxPool2d(2, 2)\n",
        "        self.conv3 = nn.Conv2d(16, 16, 3)\n",
        "        self.fc1 = nn.Linear(16 * 4 * 4, 120)\n",
        "        self.fc2 = nn.Linear(120, 84)\n",
        "        self.fc3 = nn.Linear(84, 10)\n",
        "\n",
        "    def forward(self, x):\n",
        "        x = self.pool(F.relu(self.conv1(x)))\n",
        "        x = self.pool(F.relu(self.conv2(x)))\n",
        "        x = F.relu(self.conv3(x))\n",
        "        # x = self.pool(F.relu(self.conv3(x)))\n",
        "        x = x.view(-1, 16 * 4 * 4)\n",
        "        x = F.relu(self.fc1(x))\n",
        "        x = F.relu(self.fc2(x))\n",
        "        x = self.fc3(x)\n",
        "        return x\n",
        "\n",
        "\n",
        "net = Net()"
      ],
      "execution_count": null,
      "outputs": []
    },
    {
      "cell_type": "code",
      "metadata": {
        "id": "GzSvTeqeWn-g",
        "colab_type": "code",
        "colab": {}
      },
      "source": [
        "import torch.optim as optim\n",
        "\n",
        "criterion = nn.CrossEntropyLoss()\n",
        "optimizer = optim.SGD(net.parameters(), lr=0.001, momentum=0.9)"
      ],
      "execution_count": null,
      "outputs": []
    },
    {
      "cell_type": "code",
      "metadata": {
        "id": "jm9Wtlfsu-Kt",
        "colab_type": "code",
        "colab": {
          "base_uri": "https://localhost:8080/",
          "height": 170
        },
        "outputId": "03037a0e-fe29-4062-8ac4-30209399a8a0"
      },
      "source": [
        "net.to(device)"
      ],
      "execution_count": null,
      "outputs": [
        {
          "output_type": "execute_result",
          "data": {
            "text/plain": [
              "Net(\n",
              "  (conv1): Conv2d(3, 6, kernel_size=(5, 5), stride=(1, 1))\n",
              "  (pool): MaxPool2d(kernel_size=2, stride=2, padding=0, dilation=1, ceil_mode=False)\n",
              "  (conv2): Conv2d(6, 16, kernel_size=(3, 3), stride=(1, 1))\n",
              "  (conv3): Conv2d(16, 16, kernel_size=(3, 3), stride=(1, 1))\n",
              "  (fc1): Linear(in_features=256, out_features=120, bias=True)\n",
              "  (fc2): Linear(in_features=120, out_features=84, bias=True)\n",
              "  (fc3): Linear(in_features=84, out_features=10, bias=True)\n",
              ")"
            ]
          },
          "metadata": {
            "tags": []
          },
          "execution_count": 9
        }
      ]
    },
    {
      "cell_type": "code",
      "metadata": {
        "id": "nCL1DqtaWoB5",
        "colab_type": "code",
        "colab": {
          "base_uri": "https://localhost:8080/",
          "height": 1000
        },
        "outputId": "f35e5680-92ad-4901-c8df-9f90dd5b2da9"
      },
      "source": [
        "for epoch in range(50):  # loop over the dataset multiple times\n",
        "\n",
        "    running_loss = 0.0\n",
        "    for i, data in enumerate(trainloader, 0):\n",
        "        # get the inputs; data is a list of [inputs, labels]\n",
        "        # inputs, labels = data\n",
        "        inputs, labels = data[0].to(device), data[1].to(device)\n",
        "        \n",
        "        # zero the parameter gradients\n",
        "        optimizer.zero_grad()\n",
        "\n",
        "        # forward + backward + optimize\n",
        "        outputs = net(inputs)#.to(device)\n",
        "        # print('inputs.shape',inputs.shape)\n",
        "        # print('outputs.shape',outputs.shape)\n",
        "        # print('labels.shape',labels.shape)\n",
        "        loss = criterion(outputs, labels)\n",
        "        loss.backward()\n",
        "        optimizer.step()\n",
        "\n",
        "        # print statistics\n",
        "        running_loss += loss.item()\n",
        "        if i % 2000 == 1999:    # print every 2000 mini-batches\n",
        "            print('[%d, %5d] loss: %.3f' %\n",
        "                  (epoch + 1, i + 1, running_loss / 2000))\n",
        "            running_loss = 0.0\n",
        "\n",
        "print('Finished Training')"
      ],
      "execution_count": null,
      "outputs": [
        {
          "output_type": "stream",
          "text": [
            "[1,  2000] loss: 2.297\n",
            "[1,  4000] loss: 2.061\n",
            "[1,  6000] loss: 1.886\n",
            "[1,  8000] loss: 1.714\n",
            "[1, 10000] loss: 1.614\n",
            "[1, 12000] loss: 1.546\n",
            "[2,  2000] loss: 1.490\n",
            "[2,  4000] loss: 1.425\n",
            "[2,  6000] loss: 1.421\n",
            "[2,  8000] loss: 1.415\n",
            "[2, 10000] loss: 1.395\n",
            "[2, 12000] loss: 1.367\n",
            "[3,  2000] loss: 1.324\n",
            "[3,  4000] loss: 1.331\n",
            "[3,  6000] loss: 1.288\n",
            "[3,  8000] loss: 1.282\n",
            "[3, 10000] loss: 1.271\n",
            "[3, 12000] loss: 1.258\n",
            "[4,  2000] loss: 1.204\n",
            "[4,  4000] loss: 1.215\n",
            "[4,  6000] loss: 1.202\n",
            "[4,  8000] loss: 1.213\n",
            "[4, 10000] loss: 1.202\n",
            "[4, 12000] loss: 1.188\n",
            "[5,  2000] loss: 1.137\n",
            "[5,  4000] loss: 1.120\n",
            "[5,  6000] loss: 1.136\n",
            "[5,  8000] loss: 1.123\n",
            "[5, 10000] loss: 1.147\n",
            "[5, 12000] loss: 1.133\n",
            "[6,  2000] loss: 1.061\n",
            "[6,  4000] loss: 1.099\n",
            "[6,  6000] loss: 1.090\n",
            "[6,  8000] loss: 1.076\n",
            "[6, 10000] loss: 1.107\n",
            "[6, 12000] loss: 1.089\n",
            "[7,  2000] loss: 1.024\n",
            "[7,  4000] loss: 1.044\n",
            "[7,  6000] loss: 1.055\n",
            "[7,  8000] loss: 1.046\n",
            "[7, 10000] loss: 1.058\n",
            "[7, 12000] loss: 1.047\n",
            "[8,  2000] loss: 1.006\n",
            "[8,  4000] loss: 1.011\n",
            "[8,  6000] loss: 1.028\n",
            "[8,  8000] loss: 1.007\n",
            "[8, 10000] loss: 1.033\n",
            "[8, 12000] loss: 1.017\n",
            "[9,  2000] loss: 0.960\n",
            "[9,  4000] loss: 0.979\n",
            "[9,  6000] loss: 0.999\n",
            "[9,  8000] loss: 0.974\n",
            "[9, 10000] loss: 1.017\n",
            "[9, 12000] loss: 0.993\n",
            "[10,  2000] loss: 0.942\n",
            "[10,  4000] loss: 0.944\n",
            "[10,  6000] loss: 0.971\n",
            "[10,  8000] loss: 0.970\n",
            "[10, 10000] loss: 0.977\n",
            "[10, 12000] loss: 0.973\n",
            "[11,  2000] loss: 0.910\n",
            "[11,  4000] loss: 0.932\n",
            "[11,  6000] loss: 0.945\n",
            "[11,  8000] loss: 0.960\n",
            "[11, 10000] loss: 0.960\n",
            "[11, 12000] loss: 0.962\n",
            "[12,  2000] loss: 0.898\n",
            "[12,  4000] loss: 0.905\n",
            "[12,  6000] loss: 0.926\n",
            "[12,  8000] loss: 0.947\n",
            "[12, 10000] loss: 0.966\n",
            "[12, 12000] loss: 0.925\n",
            "[13,  2000] loss: 0.865\n",
            "[13,  4000] loss: 0.883\n",
            "[13,  6000] loss: 0.928\n",
            "[13,  8000] loss: 0.919\n",
            "[13, 10000] loss: 0.949\n",
            "[13, 12000] loss: 0.940\n",
            "[14,  2000] loss: 0.827\n",
            "[14,  4000] loss: 0.870\n",
            "[14,  6000] loss: 0.912\n",
            "[14,  8000] loss: 0.927\n",
            "[14, 10000] loss: 0.938\n",
            "[14, 12000] loss: 0.934\n",
            "[15,  2000] loss: 0.859\n",
            "[15,  4000] loss: 0.862\n",
            "[15,  6000] loss: 0.873\n",
            "[15,  8000] loss: 0.905\n",
            "[15, 10000] loss: 0.911\n",
            "[15, 12000] loss: 0.927\n",
            "[16,  2000] loss: 0.807\n",
            "[16,  4000] loss: 0.838\n",
            "[16,  6000] loss: 0.893\n",
            "[16,  8000] loss: 0.886\n",
            "[16, 10000] loss: 0.911\n",
            "[16, 12000] loss: 0.926\n",
            "[17,  2000] loss: 0.834\n",
            "[17,  4000] loss: 0.843\n",
            "[17,  6000] loss: 0.854\n",
            "[17,  8000] loss: 0.899\n",
            "[17, 10000] loss: 0.900\n",
            "[17, 12000] loss: 0.910\n",
            "[18,  2000] loss: 0.806\n",
            "[18,  4000] loss: 0.826\n",
            "[18,  6000] loss: 0.852\n",
            "[18,  8000] loss: 0.887\n",
            "[18, 10000] loss: 0.901\n",
            "[18, 12000] loss: 0.880\n",
            "[19,  2000] loss: 0.814\n",
            "[19,  4000] loss: 0.818\n",
            "[19,  6000] loss: 0.854\n",
            "[19,  8000] loss: 0.893\n",
            "[19, 10000] loss: 0.883\n",
            "[19, 12000] loss: 0.867\n",
            "[20,  2000] loss: 0.788\n",
            "[20,  4000] loss: 0.825\n",
            "[20,  6000] loss: 0.846\n",
            "[20,  8000] loss: 0.871\n",
            "[20, 10000] loss: 0.877\n",
            "[20, 12000] loss: 0.872\n",
            "[21,  2000] loss: 0.798\n",
            "[21,  4000] loss: 0.829\n",
            "[21,  6000] loss: 0.833\n",
            "[21,  8000] loss: 0.840\n",
            "[21, 10000] loss: 0.874\n",
            "[21, 12000] loss: 0.897\n",
            "[22,  2000] loss: 0.800\n",
            "[22,  4000] loss: 0.829\n",
            "[22,  6000] loss: 0.837\n",
            "[22,  8000] loss: 0.855\n",
            "[22, 10000] loss: 0.870\n",
            "[22, 12000] loss: 0.877\n",
            "[23,  2000] loss: 0.781\n",
            "[23,  4000] loss: 0.829\n",
            "[23,  6000] loss: 0.848\n",
            "[23,  8000] loss: 0.841\n",
            "[23, 10000] loss: 0.855\n",
            "[23, 12000] loss: 0.863\n",
            "[24,  2000] loss: 0.786\n",
            "[24,  4000] loss: 0.828\n",
            "[24,  6000] loss: 0.818\n",
            "[24,  8000] loss: 0.845\n",
            "[24, 10000] loss: 0.860\n",
            "[24, 12000] loss: 0.853\n",
            "[25,  2000] loss: 0.777\n",
            "[25,  4000] loss: 0.800\n",
            "[25,  6000] loss: 0.836\n",
            "[25,  8000] loss: 0.831\n",
            "[25, 10000] loss: 0.851\n",
            "[25, 12000] loss: 0.860\n",
            "[26,  2000] loss: 0.760\n",
            "[26,  4000] loss: 0.810\n",
            "[26,  6000] loss: 0.823\n",
            "[26,  8000] loss: 0.843\n",
            "[26, 10000] loss: 0.851\n",
            "[26, 12000] loss: 0.857\n",
            "[27,  2000] loss: 0.777\n",
            "[27,  4000] loss: 0.789\n",
            "[27,  6000] loss: 0.807\n",
            "[27,  8000] loss: 0.831\n",
            "[27, 10000] loss: 0.847\n",
            "[27, 12000] loss: 0.856\n",
            "[28,  2000] loss: 0.763\n",
            "[28,  4000] loss: 0.818\n",
            "[28,  6000] loss: 0.822\n",
            "[28,  8000] loss: 0.817\n",
            "[28, 10000] loss: 0.844\n",
            "[28, 12000] loss: 0.832\n",
            "[29,  2000] loss: 0.759\n",
            "[29,  4000] loss: 0.800\n",
            "[29,  6000] loss: 0.816\n",
            "[29,  8000] loss: 0.835\n",
            "[29, 10000] loss: 0.850\n",
            "[29, 12000] loss: 0.865\n",
            "[30,  2000] loss: 0.770\n",
            "[30,  4000] loss: 0.803\n",
            "[30,  6000] loss: 0.821\n",
            "[30,  8000] loss: 0.809\n",
            "[30, 10000] loss: 0.826\n",
            "[30, 12000] loss: 0.863\n",
            "[31,  2000] loss: 0.768\n",
            "[31,  4000] loss: 0.788\n",
            "[31,  6000] loss: 0.813\n",
            "[31,  8000] loss: 0.835\n",
            "[31, 10000] loss: 0.856\n",
            "[31, 12000] loss: 0.854\n",
            "[32,  2000] loss: 0.756\n",
            "[32,  4000] loss: 0.811\n",
            "[32,  6000] loss: 0.820\n",
            "[32,  8000] loss: 0.805\n",
            "[32, 10000] loss: 0.833\n",
            "[32, 12000] loss: 0.851\n",
            "[33,  2000] loss: 0.748\n",
            "[33,  4000] loss: 0.801\n",
            "[33,  6000] loss: 0.813\n",
            "[33,  8000] loss: 0.832\n",
            "[33, 10000] loss: 0.834\n",
            "[33, 12000] loss: 0.853\n",
            "[34,  2000] loss: 0.753\n",
            "[34,  4000] loss: 0.794\n",
            "[34,  6000] loss: 0.795\n",
            "[34,  8000] loss: 0.863\n",
            "[34, 10000] loss: 0.827\n",
            "[34, 12000] loss: 0.836\n",
            "[35,  2000] loss: 0.760\n",
            "[35,  4000] loss: 0.781\n",
            "[35,  6000] loss: 0.825\n",
            "[35,  8000] loss: 0.841\n",
            "[35, 10000] loss: 0.832\n",
            "[35, 12000] loss: 0.860\n",
            "[36,  2000] loss: 0.764\n",
            "[36,  4000] loss: 0.775\n",
            "[36,  6000] loss: 0.811\n",
            "[36,  8000] loss: 0.812\n",
            "[36, 10000] loss: 0.831\n",
            "[36, 12000] loss: 0.837\n",
            "[37,  2000] loss: 0.746\n",
            "[37,  4000] loss: 0.779\n",
            "[37,  6000] loss: 0.810\n",
            "[37,  8000] loss: 0.801\n",
            "[37, 10000] loss: 0.832\n",
            "[37, 12000] loss: 0.827\n",
            "[38,  2000] loss: 0.753\n",
            "[38,  4000] loss: 0.793\n",
            "[38,  6000] loss: 0.806\n",
            "[38,  8000] loss: 0.791\n",
            "[38, 10000] loss: 0.825\n",
            "[38, 12000] loss: 0.851\n",
            "[39,  2000] loss: 0.774\n",
            "[39,  4000] loss: 0.772\n",
            "[39,  6000] loss: 0.790\n",
            "[39,  8000] loss: 0.822\n",
            "[39, 10000] loss: 0.853\n",
            "[39, 12000] loss: 0.840\n",
            "[40,  2000] loss: 0.738\n",
            "[40,  4000] loss: 0.790\n",
            "[40,  6000] loss: 0.791\n",
            "[40,  8000] loss: 0.817\n",
            "[40, 10000] loss: 0.828\n",
            "[40, 12000] loss: 0.844\n",
            "[41,  2000] loss: 0.737\n",
            "[41,  4000] loss: 0.771\n",
            "[41,  6000] loss: 0.820\n",
            "[41,  8000] loss: 0.829\n",
            "[41, 10000] loss: 0.824\n",
            "[41, 12000] loss: 0.863\n",
            "[42,  2000] loss: 0.757\n",
            "[42,  4000] loss: 0.769\n",
            "[42,  6000] loss: 0.810\n",
            "[42,  8000] loss: 0.819\n",
            "[42, 10000] loss: 0.834\n",
            "[42, 12000] loss: 0.832\n",
            "[43,  2000] loss: 0.772\n",
            "[43,  4000] loss: 0.782\n",
            "[43,  6000] loss: 0.801\n",
            "[43,  8000] loss: 0.808\n",
            "[43, 10000] loss: 0.847\n",
            "[43, 12000] loss: 0.836\n",
            "[44,  2000] loss: 0.727\n",
            "[44,  4000] loss: 0.800\n",
            "[44,  6000] loss: 0.835\n",
            "[44,  8000] loss: 0.820\n",
            "[44, 10000] loss: 0.800\n",
            "[44, 12000] loss: 0.857\n",
            "[45,  2000] loss: 0.792\n",
            "[45,  4000] loss: 0.779\n",
            "[45,  6000] loss: 0.788\n",
            "[45,  8000] loss: 0.826\n",
            "[45, 10000] loss: 0.831\n",
            "[45, 12000] loss: 0.838\n",
            "[46,  2000] loss: 0.754\n",
            "[46,  4000] loss: 0.796\n",
            "[46,  6000] loss: 0.846\n",
            "[46,  8000] loss: 0.839\n",
            "[46, 10000] loss: 0.827\n",
            "[46, 12000] loss: 0.822\n",
            "[47,  2000] loss: 0.741\n",
            "[47,  4000] loss: 0.785\n",
            "[47,  6000] loss: 0.820\n",
            "[47,  8000] loss: 0.799\n",
            "[47, 10000] loss: 0.863\n",
            "[47, 12000] loss: 0.859\n",
            "[48,  2000] loss: 0.767\n",
            "[48,  4000] loss: 0.783\n",
            "[48,  6000] loss: 0.787\n",
            "[48,  8000] loss: 0.807\n",
            "[48, 10000] loss: 0.845\n",
            "[48, 12000] loss: 0.832\n",
            "[49,  2000] loss: 0.750\n",
            "[49,  4000] loss: 0.789\n",
            "[49,  6000] loss: 0.813\n",
            "[49,  8000] loss: 0.834\n",
            "[49, 10000] loss: 0.832\n",
            "[49, 12000] loss: 0.819\n",
            "[50,  2000] loss: 0.744\n",
            "[50,  4000] loss: 0.781\n",
            "[50,  6000] loss: 0.817\n",
            "[50,  8000] loss: 0.845\n",
            "[50, 10000] loss: 0.832\n",
            "[50, 12000] loss: 0.832\n",
            "Finished Training\n"
          ],
          "name": "stdout"
        }
      ]
    },
    {
      "cell_type": "code",
      "metadata": {
        "id": "K2BjlrXLZqki",
        "colab_type": "code",
        "colab": {}
      },
      "source": [
        "PATH = './cifar_net.pth'\n",
        "torch.save(net.state_dict(), PATH)"
      ],
      "execution_count": null,
      "outputs": []
    },
    {
      "cell_type": "code",
      "metadata": {
        "id": "8Nh2A3bdZqsj",
        "colab_type": "code",
        "colab": {
          "base_uri": "https://localhost:8080/",
          "height": 155
        },
        "outputId": "845c19ae-ee7a-4638-feb1-84506d12fe11"
      },
      "source": [
        "dataiter = iter(testloader)\n",
        "images, labels = dataiter.next()\n",
        "\n",
        "# print images\n",
        "imshow(torchvision.utils.make_grid(images))\n",
        "print('GroundTruth: ', ' '.join('%5s' % classes[labels[j]] for j in range(4)))"
      ],
      "execution_count": null,
      "outputs": [
        {
          "output_type": "display_data",
          "data": {
            "image/png": "[encoded data removed]",
            "text/plain": [
              "<Figure size 432x288 with 1 Axes>"
            ]
          },
          "metadata": {
            "tags": [],
            "needs_background": "light"
          }
        },
        {
          "output_type": "stream",
          "text": [
            "GroundTruth:    cat  ship  ship plane\n"
          ],
          "name": "stdout"
        }
      ]
    },
    {
      "cell_type": "code",
      "metadata": {
        "id": "nc87KW9mZq3p",
        "colab_type": "code",
        "colab": {
          "base_uri": "https://localhost:8080/",
          "height": 34
        },
        "outputId": "fdcc06b2-c072-477c-d970-17c0c42b5248"
      },
      "source": [
        "net = Net()\n",
        "net.load_state_dict(torch.load(PATH))"
      ],
      "execution_count": null,
      "outputs": [
        {
          "output_type": "execute_result",
          "data": {
            "text/plain": [
              "<All keys matched successfully>"
            ]
          },
          "metadata": {
            "tags": []
          },
          "execution_count": 13
        }
      ]
    },
    {
      "cell_type": "code",
      "metadata": {
        "id": "04FhjZDZZrBO",
        "colab_type": "code",
        "colab": {}
      },
      "source": [
        "outputs = net(images)"
      ],
      "execution_count": null,
      "outputs": []
    },
    {
      "cell_type": "code",
      "metadata": {
        "id": "PKzfSF7dZrKF",
        "colab_type": "code",
        "colab": {
          "base_uri": "https://localhost:8080/",
          "height": 34
        },
        "outputId": "8b94aa25-ea5b-4bc0-fb94-5c6f9ff8567e"
      },
      "source": [
        " _, predicted = torch.max(outputs, 1)\n",
        "\n",
        "print('Predicted: ', ' '.join('%5s' % classes[predicted[j]]\n",
        "                              for j in range(4)))"
      ],
      "execution_count": null,
      "outputs": [
        {
          "output_type": "stream",
          "text": [
            "Predicted:    cat  ship  ship  ship\n"
          ],
          "name": "stdout"
        }
      ]
    },
    {
      "cell_type": "code",
      "metadata": {
        "id": "GBt6lEHbZrD5",
        "colab_type": "code",
        "colab": {
          "base_uri": "https://localhost:8080/",
          "height": 34
        },
        "outputId": "4ed83050-465b-4ca0-9a31-19832cbccfee"
      },
      "source": [
        "correct = 0\n",
        "total = 0\n",
        "with torch.no_grad():\n",
        "    for data in testloader:\n",
        "        images, labels = data\n",
        "        # images, labels = images.cuda(), labels.cuda()\n",
        "        outputs = net(images)#.cuda()\n",
        "        # outputs.cuda()\n",
        "        _, predicted = torch.max(outputs.data, 1)\n",
        "        total += labels.size(0)\n",
        "        correct += (predicted == labels).sum().item()\n",
        "\n",
        "print('Accuracy of the network on the 10000 test images: %d %%' % (\n",
        "    100 * correct / total))"
      ],
      "execution_count": null,
      "outputs": [
        {
          "output_type": "stream",
          "text": [
            "Accuracy of the network on the 10000 test images: 58 %\n"
          ],
          "name": "stdout"
        }
      ]
    },
    {
      "cell_type": "code",
      "metadata": {
        "id": "6_I5zs7TZrAT",
        "colab_type": "code",
        "colab": {
          "base_uri": "https://localhost:8080/",
          "height": 187
        },
        "outputId": "753f1e2b-cbbf-4461-ec4b-3639e8c27c01"
      },
      "source": [
        "class_correct = list(0. for i in range(10))\n",
        "class_total = list(0. for i in range(10))\n",
        "with torch.no_grad():\n",
        "    for data in testloader:\n",
        "        images, labels = data\n",
        "        # images, labels = images.cuda(), labels.cuda()\n",
        "        # outputs.cuda()\n",
        "        outputs = net(images)\n",
        "        _, predicted = torch.max(outputs, 1)\n",
        "        c = (predicted == labels).squeeze()\n",
        "        for i in range(4):\n",
        "            label = labels[i]\n",
        "            class_correct[label] += c[i].item()\n",
        "            class_total[label] += 1\n",
        "\n",
        "\n",
        "for i in range(10):\n",
        "    print('Accuracy of %5s : %2d %%' % (\n",
        "        classes[i], 100 * class_correct[i] / class_total[i]))"
      ],
      "execution_count": null,
      "outputs": [
        {
          "output_type": "stream",
          "text": [
            "Accuracy of plane : 57 %\n",
            "Accuracy of   car : 78 %\n",
            "Accuracy of  bird : 47 %\n",
            "Accuracy of   cat : 47 %\n",
            "Accuracy of  deer : 51 %\n",
            "Accuracy of   dog : 46 %\n",
            "Accuracy of  frog : 74 %\n",
            "Accuracy of horse : 50 %\n",
            "Accuracy of  ship : 76 %\n",
            "Accuracy of truck : 54 %\n"
          ],
          "name": "stdout"
        }
      ]
    },
    {
      "cell_type": "code",
      "metadata": {
        "id": "D8wEUGyjcChf",
        "colab_type": "code",
        "colab": {}
      },
      "source": [
        ""
      ],
      "execution_count": null,
      "outputs": []
    },
    {
      "cell_type": "code",
      "metadata": {
        "id": "25qiC-G-cCkm",
        "colab_type": "code",
        "colab": {}
      },
      "source": [
        ""
      ],
      "execution_count": null,
      "outputs": []
    },
    {
      "cell_type": "code",
      "metadata": {
        "id": "FKa7SXDUcDBO",
        "colab_type": "code",
        "colab": {}
      },
      "source": [
        ""
      ],
      "execution_count": null,
      "outputs": []
    },
    {
      "cell_type": "code",
      "metadata": {
        "id": "GHEjjehocC1W",
        "colab_type": "code",
        "colab": {}
      },
      "source": [
        ""
      ],
      "execution_count": null,
      "outputs": []
    },
    {
      "cell_type": "code",
      "metadata": {
        "id": "wtVL75wUcC0J",
        "colab_type": "code",
        "colab": {}
      },
      "source": [
        ""
      ],
      "execution_count": null,
      "outputs": []
    },
    {
      "cell_type": "code",
      "metadata": {
        "id": "9RTUscd3cCzH",
        "colab_type": "code",
        "colab": {}
      },
      "source": [
        ""
      ],
      "execution_count": null,
      "outputs": []
    },
    {
      "cell_type": "code",
      "metadata": {
        "id": "8jTRemgscCyF",
        "colab_type": "code",
        "colab": {}
      },
      "source": [
        ""
      ],
      "execution_count": null,
      "outputs": []
    },
    {
      "cell_type": "code",
      "metadata": {
        "id": "f_7lC1w4cCxA",
        "colab_type": "code",
        "colab": {}
      },
      "source": [
        ""
      ],
      "execution_count": null,
      "outputs": []
    },
    {
      "cell_type": "code",
      "metadata": {
        "id": "CeGJ6kvMcCv3",
        "colab_type": "code",
        "colab": {}
      },
      "source": [
        ""
      ],
      "execution_count": null,
      "outputs": []
    },
    {
      "cell_type": "code",
      "metadata": {
        "id": "nw3TkDlWZqv3",
        "colab_type": "code",
        "colab": {}
      },
      "source": [
        ""
      ],
      "execution_count": null,
      "outputs": []
    },
    {
      "cell_type": "code",
      "metadata": {
        "id": "2nD6AUZ_Zqrh",
        "colab_type": "code",
        "colab": {}
      },
      "source": [
        ""
      ],
      "execution_count": null,
      "outputs": []
    }
  ]
}
{
 "cells": [
  {
   "cell_type": "code",
   "execution_count": 5,
   "metadata": {},
   "outputs": [
    {
     "name": "stdout",
     "output_type": "stream",
     "text": [
      "MNIST CNN initialized!\n",
      "--- Epoch 1 ---\n",
      "[Step 100] Past 100 steps: Average Loss 2.246 | Accuracy: 16%\n",
      "[Step 200] Past 100 steps: Average Loss 2.084 | Accuracy: 35%\n",
      "[Step 300] Past 100 steps: Average Loss 1.730 | Accuracy: 53%\n",
      "[Step 400] Past 100 steps: Average Loss 1.105 | Accuracy: 68%\n",
      "[Step 500] Past 100 steps: Average Loss 0.934 | Accuracy: 73%\n",
      "[Step 600] Past 100 steps: Average Loss 0.807 | Accuracy: 69%\n",
      "[Step 700] Past 100 steps: Average Loss 0.867 | Accuracy: 73%\n",
      "[Step 800] Past 100 steps: Average Loss 0.718 | Accuracy: 77%\n",
      "[Step 900] Past 100 steps: Average Loss 0.701 | Accuracy: 81%\n",
      "[Step 1000] Past 100 steps: Average Loss 0.726 | Accuracy: 78%\n"
     ]
    }
   ],
   "source": [
    "import mnist\n",
    "import numpy as np\n",
    "from conv import Conv3x3\n",
    "from maxpool import MaxPool2\n",
    "from softmax import Softmax\n",
    "\n",
    "# We only use the first 1k examples of each set in the interest of time.\n",
    "# Feel free to change this if you want.\n",
    "train_images = mnist.train_images()[:1000]\n",
    "train_labels = mnist.train_labels()[:1000]\n",
    "test_images = mnist.test_images()[:1000]\n",
    "test_labels = mnist.test_labels()[:1000]\n",
    "\n",
    "conv = Conv3x3(8)                  # 28x28x1 -> 26x26x8\n",
    "pool = MaxPool2()                  # 26x26x8 -> 13x13x8\n",
    "softmax = Softmax(13 * 13 * 8, 10) # 13x13x8 -> 10\n",
    "filter_before_inverse, filter_after_inverse = 0,0\n",
    "def forward(image, label):\n",
    "    '''\n",
    "    Completes a forward pass of the CNN and calculates the accuracy and\n",
    "    cross-entropy loss.\n",
    "    - image is a 2d numpy array\n",
    "    - label is a digit\n",
    "    '''\n",
    "    # We transform the image from [0, 255] to [-0.5, 0.5] to make it easier\n",
    "    # to work with. This is standard practice.\n",
    "    out = conv.forward((image / 255) - 0.5)\n",
    "#     filter_before_inverse, filter_after_inverse = conv.return_filters()\n",
    "# #     print(filter_before_inverse)\n",
    "    out = pool.forward(out)\n",
    "    out = softmax.forward(out)\n",
    "\n",
    "    # Calculate cross-entropy loss and accuracy. np.log() is the natural log.\n",
    "    loss = -np.log(out[label])\n",
    "    acc = 1 if np.argmax(out) == label else 0\n",
    "\n",
    "    return out, loss, acc\n",
    "\n",
    "def train(im, label, lr=.005):\n",
    "    '''\n",
    "    Completes a full training step on the given image and label.\n",
    "    Returns the cross-entropy loss and accuracy.\n",
    "    - image is a 2d numpy array\n",
    "    - label is a digit\n",
    "    - lr is the learning rate\n",
    "    '''\n",
    "    # Forward\n",
    "    out, loss, acc = forward(im, label)\n",
    "\n",
    "    # Calculate initial gradient\n",
    "    gradient = np.zeros(10)\n",
    "    gradient[label] = -1 / out[label]\n",
    "\n",
    "    # Backprop\n",
    "    gradient = softmax.backprop(gradient, lr)\n",
    "    gradient = pool.backprop(gradient)\n",
    "    gradient = conv.backprop(gradient, lr)\n",
    "\n",
    "    return loss, acc\n",
    "\n",
    "print('MNIST CNN initialized!')\n",
    "\n",
    "# Train the CNN for 3 epochs\n",
    "for epoch in range(1):\n",
    "    print('--- Epoch %d ---' % (epoch + 1))\n",
    "\n",
    "    # Shuffle the training data\n",
    "    permutation = np.random.permutation(len(train_images))\n",
    "    train_images = train_images[permutation]\n",
    "    train_labels = train_labels[permutation]\n",
    "\n",
    "    # Train!\n",
    "    loss = 0\n",
    "    num_correct = 0\n",
    "    for i, (im, label) in enumerate(zip(train_images, train_labels)):\n",
    "        if i % 100 == 99:\n",
    "            print(\n",
    "            '[Step %d] Past 100 steps: Average Loss %.3f | Accuracy: %d%%' %\n",
    "            (i + 1, loss / 100, num_correct)\n",
    "            )\n",
    "            loss = 0\n",
    "            num_correct = 0\n",
    "\n",
    "        l, acc = train(im, label)\n",
    "        loss += l\n",
    "        num_correct += acc"
   ]
  },
  {
   "cell_type": "code",
   "execution_count": 14,
   "metadata": {},
   "outputs": [],
   "source": [
    "# Test the CNN\n",
    "# print('\\n--- Testing the CNN Normal---')\n",
    "# loss = 0\n",
    "# num_correct = 0\n",
    "# for im, label in zip(test_images, test_labels):\n",
    "#     _, l, acc = forward(im, label)\n",
    "#     loss += l\n",
    "#     num_correct += acc\n",
    "#\n",
    "# num_tests = len(test_images)\n",
    "# print('Test Loss:', loss / num_tests)\n",
    "# print('Test Accuracy:', num_correct / num_tests)"
   ]
  },
  {
   "cell_type": "code",
   "execution_count": 15,
   "metadata": {},
   "outputs": [
    {
     "name": "stdout",
     "output_type": "stream",
     "text": [
      "[0 0 0 0 0 0 0 0 0 0 0 0 0 0 0 0 0 0 0 0 0 0 0 0 0 0 0 0]\n",
      "[0 0 0 0 0 0 0 0 0 0 0 0 0 0 0 0 0 0 0 0 0 0 0 0 0 0 0 0]\n",
      "[0 0 0 0 0 0 0 0 0 0 0 0 0 0 0 0 0 0 0 0 0 0 0 0 0 0 0 0]\n",
      "[  0   0   0   0   0   0   0   0   0   0 116 125 171 255 255 150  93   0\n",
      "   0   0   0   0   0   0   0   0   0   0]\n",
      "[  0   0   0   0   0   0   0   0   0 169 253 253 253 253 253 253 218  30\n",
      "   0   0   0   0   0   0   0   0   0   0]\n",
      "[  0   0   0   0   0   0   0   0 169 253 253 253 213 142 176 253 253 122\n",
      "   0   0   0   0   0   0   0   0   0   0]\n",
      "[  0   0   0   0   0   0   0  52 250 253 210  32  12   0   6 206 253 140\n",
      "   0   0   0   0   0   0   0   0   0   0]\n",
      "[  0   0   0   0   0   0   0  77 251 210  25   0   0   0 122 248 253  65\n",
      "   0   0   0   0   0   0   0   0   0   0]\n",
      "[  0   0   0   0   0   0   0   0  31  18   0   0   0   0 209 253 253  65\n",
      "   0   0   0   0   0   0   0   0   0   0]\n",
      "[  0   0   0   0   0   0   0   0   0   0   0   0   0 117 247 253 198  10\n",
      "   0   0   0   0   0   0   0   0   0   0]\n",
      "[  0   0   0   0   0   0   0   0   0   0   0   0  76 247 253 231  63   0\n",
      "   0   0   0   0   0   0   0   0   0   0]\n",
      "[  0   0   0   0   0   0   0   0   0   0   0   0 128 253 253 144   0   0\n",
      "   0   0   0   0   0   0   0   0   0   0]\n",
      "[  0   0   0   0   0   0   0   0   0   0   0 176 246 253 159  12   0   0\n",
      "   0   0   0   0   0   0   0   0   0   0]\n",
      "[  0   0   0   0   0   0   0   0   0   0  25 234 253 233  35   0   0   0\n",
      "   0   0   0   0   0   0   0   0   0   0]\n",
      "[  0   0   0   0   0   0   0   0   0   0 198 253 253 141   0   0   0   0\n",
      "   0   0   0   0   0   0   0   0   0   0]\n",
      "[  0   0   0   0   0   0   0   0   0  78 248 253 189  12   0   0   0   0\n",
      "   0   0   0   0   0   0   0   0   0   0]\n",
      "[  0   0   0   0   0   0   0   0  19 200 253 253 141   0   0   0   0   0\n",
      "   0   0   0   0   0   0   0   0   0   0]\n",
      "[  0   0   0   0   0   0   0   0 134 253 253 173  12   0   0   0   0   0\n",
      "   0   0   0   0   0   0   0   0   0   0]\n",
      "[  0   0   0   0   0   0   0   0 248 253 253  25   0   0   0   0   0   0\n",
      "   0   0   0   0   0   0   0   0   0   0]\n",
      "[  0   0   0   0   0   0   0   0 248 253 253  43  20  20  20  20   5   0\n",
      "   5  20  20  37 150 150 150 147  10   0]\n",
      "[  0   0   0   0   0   0   0   0 248 253 253 253 253 253 253 253 168 143\n",
      " 166 253 253 253 253 253 253 253 123   0]\n",
      "[  0   0   0   0   0   0   0   0 174 253 253 253 253 253 253 253 253 253\n",
      " 253 253 249 247 247 169 117 117  57   0]\n",
      "[  0   0   0   0   0   0   0   0   0 118 123 123 123 166 253 253 253 155\n",
      " 123 123  41   0   0   0   0   0   0   0]\n",
      "[0 0 0 0 0 0 0 0 0 0 0 0 0 0 0 0 0 0 0 0 0 0 0 0 0 0 0 0]\n",
      "[0 0 0 0 0 0 0 0 0 0 0 0 0 0 0 0 0 0 0 0 0 0 0 0 0 0 0 0]\n",
      "[0 0 0 0 0 0 0 0 0 0 0 0 0 0 0 0 0 0 0 0 0 0 0 0 0 0 0 0]\n",
      "[0 0 0 0 0 0 0 0 0 0 0 0 0 0 0 0 0 0 0 0 0 0 0 0 0 0 0 0]\n",
      "[0 0 0 0 0 0 0 0 0 0 0 0 0 0 0 0 0 0 0 0 0 0 0 0 0 0 0 0]\n"
     ]
    }
   ],
   "source": [
    "for i in test_images[1]:\n",
    "    print(i)"
   ]
  },
  {
   "cell_type": "code",
   "execution_count": 16,
   "metadata": {},
   "outputs": [],
   "source": [
    "test_images_77_inverse = []\n",
    "for test_images_element in test_images:\n",
    "    test_images_77_inverse_element_holder_final = []\n",
    "    for k in test_images_element:\n",
    "        test_images_77_inverse_element_holder = []\n",
    "        for i in range(len(k)):\n",
    "#             print(k[len(k)-1-i])\n",
    "            test_images_77_inverse_element_holder.append(k[len(k)-1-i])\n",
    "#         print(test_images_77_inverse_element_holder)\n",
    "        test_images_77_inverse_element_holder_final.append(test_images_77_inverse_element_holder)\n",
    "    test_images_77_inverse.append(test_images_77_inverse_element_holder_final)\n",
    "test_images_77_inverse = np.asarray(test_images_77_inverse)"
   ]
  },
  {
   "cell_type": "code",
   "execution_count": 17,
   "metadata": {},
   "outputs": [
    {
     "name": "stdout",
     "output_type": "stream",
     "text": [
      "[0 0 0 0 0 0 0 0 0 0 0 0 0 0 0 0 0 0 0 0 0 0 0 0 0 0 0 0]\n",
      "[0 0 0 0 0 0 0 0 0 0 0 0 0 0 0 0 0 0 0 0 0 0 0 0 0 0 0 0]\n",
      "[0 0 0 0 0 0 0 0 0 0 0 0 0 0 0 0 0 0 0 0 0 0 0 0 0 0 0 0]\n",
      "[  0   0   0   0   0   0   0   0   0   0   0  93 150 255 255 171 125 116\n",
      "   0   0   0   0   0   0   0   0   0   0]\n",
      "[  0   0   0   0   0   0   0   0   0   0  30 218 253 253 253 253 253 253\n",
      " 169   0   0   0   0   0   0   0   0   0]\n",
      "[  0   0   0   0   0   0   0   0   0   0 122 253 253 176 142 213 253 253\n",
      " 253 169   0   0   0   0   0   0   0   0]\n",
      "[  0   0   0   0   0   0   0   0   0   0 140 253 206   6   0  12  32 210\n",
      " 253 250  52   0   0   0   0   0   0   0]\n",
      "[  0   0   0   0   0   0   0   0   0   0  65 253 248 122   0   0   0  25\n",
      " 210 251  77   0   0   0   0   0   0   0]\n",
      "[  0   0   0   0   0   0   0   0   0   0  65 253 253 209   0   0   0   0\n",
      "  18  31   0   0   0   0   0   0   0   0]\n",
      "[  0   0   0   0   0   0   0   0   0   0  10 198 253 247 117   0   0   0\n",
      "   0   0   0   0   0   0   0   0   0   0]\n",
      "[  0   0   0   0   0   0   0   0   0   0   0  63 231 253 247  76   0   0\n",
      "   0   0   0   0   0   0   0   0   0   0]\n",
      "[  0   0   0   0   0   0   0   0   0   0   0   0 144 253 253 128   0   0\n",
      "   0   0   0   0   0   0   0   0   0   0]\n",
      "[  0   0   0   0   0   0   0   0   0   0   0   0  12 159 253 246 176   0\n",
      "   0   0   0   0   0   0   0   0   0   0]\n",
      "[  0   0   0   0   0   0   0   0   0   0   0   0   0  35 233 253 234  25\n",
      "   0   0   0   0   0   0   0   0   0   0]\n",
      "[  0   0   0   0   0   0   0   0   0   0   0   0   0   0 141 253 253 198\n",
      "   0   0   0   0   0   0   0   0   0   0]\n",
      "[  0   0   0   0   0   0   0   0   0   0   0   0   0   0  12 189 253 248\n",
      "  78   0   0   0   0   0   0   0   0   0]\n",
      "[  0   0   0   0   0   0   0   0   0   0   0   0   0   0   0 141 253 253\n",
      " 200  19   0   0   0   0   0   0   0   0]\n",
      "[  0   0   0   0   0   0   0   0   0   0   0   0   0   0   0  12 173 253\n",
      " 253 134   0   0   0   0   0   0   0   0]\n",
      "[  0   0   0   0   0   0   0   0   0   0   0   0   0   0   0   0  25 253\n",
      " 253 248   0   0   0   0   0   0   0   0]\n",
      "[  0  10 147 150 150 150  37  20  20   5   0   5  20  20  20  20  43 253\n",
      " 253 248   0   0   0   0   0   0   0   0]\n",
      "[  0 123 253 253 253 253 253 253 253 166 143 168 253 253 253 253 253 253\n",
      " 253 248   0   0   0   0   0   0   0   0]\n",
      "[  0  57 117 117 169 247 247 249 253 253 253 253 253 253 253 253 253 253\n",
      " 253 174   0   0   0   0   0   0   0   0]\n",
      "[  0   0   0   0   0   0   0  41 123 123 155 253 253 253 166 123 123 123\n",
      " 118   0   0   0   0   0   0   0   0   0]\n",
      "[0 0 0 0 0 0 0 0 0 0 0 0 0 0 0 0 0 0 0 0 0 0 0 0 0 0 0 0]\n",
      "[0 0 0 0 0 0 0 0 0 0 0 0 0 0 0 0 0 0 0 0 0 0 0 0 0 0 0 0]\n",
      "[0 0 0 0 0 0 0 0 0 0 0 0 0 0 0 0 0 0 0 0 0 0 0 0 0 0 0 0]\n",
      "[0 0 0 0 0 0 0 0 0 0 0 0 0 0 0 0 0 0 0 0 0 0 0 0 0 0 0 0]\n",
      "[0 0 0 0 0 0 0 0 0 0 0 0 0 0 0 0 0 0 0 0 0 0 0 0 0 0 0 0]\n"
     ]
    }
   ],
   "source": [
    "for i in test_images_77_inverse[1]:\n",
    "    print(i)"
   ]
  },
  {
   "cell_type": "code",
   "execution_count": 18,
   "metadata": {},
   "outputs": [],
   "source": [
    "mid = round(len(test_images[77][0])/2)\n",
    "\n",
    "test_images_half = []\n",
    "for test_images_element in test_images:\n",
    "    test_images_77_inverse_element_holder_final = []\n",
    "    for k in test_images_element:\n",
    "        test_images_77_inverse_element_holder = [0]*len(k)\n",
    "        for i in range(round(len(k)/4)):\n",
    "            test_images_77_inverse_element_holder[mid+i] = k[mid+2*i]\n",
    "            test_images_77_inverse_element_holder[mid-i] = k[mid-2*i]\n",
    "        test_images_77_inverse_element_holder_final.append(test_images_77_inverse_element_holder)\n",
    "        test_images_half.append(test_images_77_inverse_element_holder_final)\n",
    "test_images_half = np.asarray(test_images_half)"
   ]
  },
  {
   "cell_type": "code",
   "execution_count": 6,
   "metadata": {},
   "outputs": [],
   "source": [
    "def test(type_data,type_filter, test_data):\n",
    "    print('\\n--- Testing the CNN '+type_data+' Data, '+type_filter+ ' filter ---')\n",
    "    loss = 0\n",
    "    num_correct = 0\n",
    "    holder0 = 0\n",
    "    holder1 = 0\n",
    "    holder2 = 0\n",
    "    holder3 = 0\n",
    "    holder4 = 0\n",
    "    holder5 = 0\n",
    "    holder6 = 0\n",
    "    holder7 = 0\n",
    "    holder8 = 0\n",
    "    holder9 = 0\n",
    "\n",
    "    holder0correct = 0\n",
    "    holder1correct = 0\n",
    "    holder2correct = 0\n",
    "    holder3correct = 0\n",
    "    holder4correct = 0\n",
    "    holder5correct = 0\n",
    "    holder6correct = 0\n",
    "    holder7correct = 0\n",
    "    holder8correct = 0\n",
    "    holder9correct = 0\n",
    "    Print = 0\n",
    "    for im, label in zip(test_data, test_labels):\n",
    "        if type_filter =='normal':\n",
    "            _, l, acc = forward(im, label)\n",
    "        else:\n",
    "            if Print<1:\n",
    "#                 print('........................................')\n",
    "#                 print('label', label)\n",
    "                Print += 1\n",
    "                _, l, acc = forward(im, label, printoutput = True)\n",
    "#                 print('........................................')\n",
    "#                 print()\n",
    "#                 print()\n",
    "            else:\n",
    "                _, l, acc = forward(im, label)\n",
    "        if label ==0:\n",
    "            holder0 +=1\n",
    "        elif label ==1:\n",
    "            holder1 +=1\n",
    "        elif label ==2:\n",
    "            holder2 +=1\n",
    "        elif label ==3:\n",
    "            holder3 +=1\n",
    "        elif label ==4:\n",
    "            holder4 +=1\n",
    "        elif label ==5:\n",
    "            holder5 +=1\n",
    "        elif label ==6:\n",
    "            holder6 +=1\n",
    "        elif label ==7:\n",
    "            holder7 +=1\n",
    "        elif label ==8:\n",
    "            holder8 +=1\n",
    "        elif label ==9:\n",
    "            holder9 +=1\n",
    "\n",
    "        if label ==0:\n",
    "            if acc == 1:\n",
    "                holder0correct +=1\n",
    "        elif label ==1:\n",
    "            if acc == 1:\n",
    "                holder1correct +=1\n",
    "        elif label ==2:\n",
    "            if acc == 1:\n",
    "                holder2correct +=1\n",
    "        elif label ==3:\n",
    "            if acc == 1:\n",
    "                holder3correct +=1\n",
    "        elif label ==4:\n",
    "            if acc == 1:\n",
    "                holder4correct +=1\n",
    "        elif label ==5:\n",
    "            if acc == 1:\n",
    "                holder5correct +=1\n",
    "        elif label ==6:\n",
    "            if acc == 1:\n",
    "                holder6correct +=1\n",
    "        elif label ==7:\n",
    "            if acc == 1:\n",
    "                holder7correct +=1\n",
    "        elif label ==8:\n",
    "            if acc == 1:\n",
    "                holder8correct +=1\n",
    "        elif label ==9:\n",
    "            if acc == 1:\n",
    "                holder9correct +=1\n",
    "\n",
    "        loss += l\n",
    "        num_correct += acc\n",
    "\n",
    "    print('Test Accuracy holder0:', holder0correct / holder0)\n",
    "    print('Test Accuracy holder1:', holder1correct / holder1)\n",
    "    print('Test Accuracy holder2:', holder2correct / holder2)\n",
    "    print('Test Accuracy holder3:', holder3correct / holder3)\n",
    "    print('Test Accuracy holder4:', holder4correct / holder4)\n",
    "    print('Test Accuracy holder5:', holder5correct / holder5)\n",
    "    print('Test Accuracy holder6:', holder6correct / holder6)\n",
    "    print('Test Accuracy holder7:', holder7correct / holder7)\n",
    "    print('Test Accuracy holder8:', holder8correct / holder8)\n",
    "    print('Test Accuracy holder9:', holder9correct / holder9)\n",
    "\n",
    "    num_tests = len(test_data)\n",
    "    print('Test Loss:', loss / num_tests)\n",
    "    print('Test Accuracy:', num_correct / num_tests)"
   ]
  },
  {
   "cell_type": "code",
   "execution_count": 7,
   "metadata": {},
   "outputs": [
    {
     "name": "stdout",
     "output_type": "stream",
     "text": [
      "\n",
      "--- Testing the CNN normal Data, normal filter ---\n",
      "Test Accuracy holder0: 0.8941176470588236\n",
      "Test Accuracy holder1: 0.9603174603174603\n",
      "Test Accuracy holder2: 0.7931034482758621\n",
      "Test Accuracy holder3: 0.6728971962616822\n",
      "Test Accuracy holder4: 0.5818181818181818\n",
      "Test Accuracy holder5: 0.367816091954023\n",
      "Test Accuracy holder6: 0.8735632183908046\n",
      "Test Accuracy holder7: 0.7272727272727273\n",
      "Test Accuracy holder8: 0.8651685393258427\n",
      "Test Accuracy holder9: 0.9361702127659575\n",
      "Test Loss: 0.6808366599067485\n",
      "Test Accuracy: 0.77\n"
     ]
    }
   ],
   "source": [
    "import mnist\n",
    "import numpy as np\n",
    "from conv import Conv3x3\n",
    "from maxpool import MaxPool2\n",
    "# from conv import inverse_filter\n",
    "from softmax import Softmax\n",
    "def forward_inverse(image, label, printoutput = False):\n",
    "    '''\n",
    "    Completes a forward pass of the CNN and calculates the accuracy and\n",
    "    cross-entropy loss.\n",
    "    - image is a 2d numpy array\n",
    "    - label is a digit\n",
    "    '''\n",
    "    # We transform the image from [0, 255] to [-0.5, 0.5] to make it easier\n",
    "    # to work with. This is standard practice.\n",
    "\n",
    "    out = conv.forward((image / 255) - 0.5)\n",
    "    \n",
    "    out = pool.forward(out)\n",
    "    out = softmax.forward(out)\n",
    "    if printoutput:\n",
    "        print('.............normal filter.......................')\n",
    "        print('out',out)\n",
    "\n",
    "    out = conv.forward((image / 255) - 0.5, inverse_filter =True)\n",
    "    out = pool.forward(out)\n",
    "    out = softmax.forward(out)\n",
    "    if printoutput:\n",
    "        print('...............combined filter.....................')\n",
    "        print('out',out)\n",
    "\n",
    "\n",
    "    # Calculate cross-entropy loss and accuracy. np.log() is the natural log.\n",
    "    loss = -np.log(out[label])\n",
    "    acc = 1 if np.argmax(out) == label else 0\n",
    "    return out, loss, acc\n",
    "#\n",
    "test('normal','normal', test_images)\n",
    "# test('inverse','normal', test_images_77_inverse)\n",
    "# test('normal','combined', test_images)\n",
    "# test('Normal half ','combined', test_images_half)\n",
    "# test('Normal half','normal', test_images_half)\n",
    "# test('inverse','combined', [train_images])\n",
    "\n",
    "# print('....the thing below using the normal data')\n",
    "# test('fake_normal','fake_normal', [test_images[77]])\n"
   ]
  },
  {
   "cell_type": "code",
   "execution_count": 60,
   "metadata": {},
   "outputs": [
    {
     "name": "stdout",
     "output_type": "stream",
     "text": [
      "[[ 0.26861385  0.50986853 -0.13544057]\n",
      " [ 0.43021354  0.16154247 -0.48044779]\n",
      " [-0.01234194  0.44850693  0.07884166]]\n"
     ]
    },
    {
     "data": {
      "image/png": "[encoded data removed]",
      "text/plain": [
       "<Figure size 432x288 with 1 Axes>"
      ]
     },
     "metadata": {
      "needs_background": "light"
     },
     "output_type": "display_data"
    },
    {
     "name": "stdout",
     "output_type": "stream",
     "text": [
      "[[ 0.09674129 -0.16315005 -0.1309497 ]\n",
      " [-0.54981632 -0.2467851  -0.58047293]\n",
      " [ 0.25238332 -0.41422266 -0.10699489]]\n"
     ]
    },
    {
     "data": {
      "image/png": "[encoded data removed]",
      "text/plain": [
       "<Figure size 432x288 with 1 Axes>"
      ]
     },
     "metadata": {
      "needs_background": "light"
     },
     "output_type": "display_data"
    },
    {
     "name": "stdout",
     "output_type": "stream",
     "text": [
      "[[-0.37163991 -0.04686788  0.08698218]\n",
      " [ 0.18991503 -0.06686905  0.23364054]\n",
      " [ 0.58113312  0.443969    0.47134914]]\n"
     ]
    },
    {
     "data": {
      "image/png": "[encoded data removed]",
      "text/plain": [
       "<Figure size 432x288 with 1 Axes>"
      ]
     },
     "metadata": {
      "needs_background": "light"
     },
     "output_type": "display_data"
    },
    {
     "name": "stdout",
     "output_type": "stream",
     "text": [
      "[[-0.35559352 -0.33828364 -0.0886534 ]\n",
      " [-0.09574892  0.07739999 -0.59072216]\n",
      " [-0.43771587  0.21519529 -0.3863192 ]]\n"
     ]
    },
    {
     "data": {
      "image/png": "[encoded data removed]",
      "text/plain": [
       "<Figure size 432x288 with 1 Axes>"
      ]
     },
     "metadata": {
      "needs_background": "light"
     },
     "output_type": "display_data"
    },
    {
     "name": "stdout",
     "output_type": "stream",
     "text": [
      "[[ 0.41241243  0.26776019 -0.39050243]\n",
      " [ 0.38252677 -0.20369523 -0.00644991]\n",
      " [ 0.23696349  0.50378744  0.32850382]]\n"
     ]
    },
    {
     "data": {
      "image/png": "[encoded data removed]",
      "text/plain": [
       "<Figure size 432x288 with 1 Axes>"
      ]
     },
     "metadata": {
      "needs_background": "light"
     },
     "output_type": "display_data"
    },
    {
     "name": "stdout",
     "output_type": "stream",
     "text": [
      "[[-0.13760716  0.33084306 -0.16739304]\n",
      " [-0.37173666 -0.34327399  0.13577678]\n",
      " [ 0.30711113 -0.2073475  -0.65712706]]\n"
     ]
    },
    {
     "data": {
      "image/png": "[encoded data removed]",
      "text/plain": [
       "<Figure size 432x288 with 1 Axes>"
      ]
     },
     "metadata": {
      "needs_background": "light"
     },
     "output_type": "display_data"
    },
    {
     "name": "stdout",
     "output_type": "stream",
     "text": [
      "[[ 0.55144729  0.21120448  0.04653463]\n",
      " [ 0.53419348  0.33184756  0.17698198]\n",
      " [ 0.39829214  0.18155309 -0.17529068]]\n"
     ]
    },
    {
     "data": {
      "image/png": "[encoded data removed]",
      "text/plain": [
       "<Figure size 432x288 with 1 Axes>"
      ]
     },
     "metadata": {
      "needs_background": "light"
     },
     "output_type": "display_data"
    },
    {
     "name": "stdout",
     "output_type": "stream",
     "text": [
      "[[ 0.23216369 -0.03715632 -0.04484093]\n",
      " [ 0.2114662   0.41384477  0.3988431 ]\n",
      " [ 0.35224102  0.52908664  0.4045257 ]]\n"
     ]
    },
    {
     "data": {
      "image/png": "[encoded data removed]",
      "text/plain": [
       "<Figure size 432x288 with 1 Axes>"
      ]
     },
     "metadata": {
      "needs_background": "light"
     },
     "output_type": "display_data"
    }
   ],
   "source": [
    "from PIL import Image\n",
    "import numpy as np\n",
    "from sklearn.preprocessing import normalize\n",
    "import matplotlib.pyplot as plt\n",
    "from PIL import Image\n",
    "\n",
    "filter_before_inverse, filter_after_inverse = conv.return_filters()\n",
    "for i in filter_before_inverse:\n",
    "    i = i / np.linalg.norm(i)\n",
    "    print(i)\n",
    "    l = np.asarray(i)\n",
    "#     l = l.astype('uint8')\n",
    "    filter_array = l\n",
    "    temp = []\n",
    "    for i in filter_array:\n",
    "        row = []\n",
    "        for k in i:\n",
    "            for n in range(10):\n",
    "                row.append(k)\n",
    "        for n in range(10):\n",
    "            temp.append(row)\n",
    "    temp = np.asarray(temp)\n",
    "    arr = np.asarray(temp)\n",
    "#     print(arr)\n",
    "    plt.imshow(arr, cmap='gray', vmin=-1, vmax=1)\n",
    "    plt.show()"
   ]
  },
  {
   "cell_type": "code",
   "execution_count": null,
   "metadata": {},
   "outputs": [],
   "source": []
  }
 ],
 "metadata": {
  "kernelspec": {
   "display_name": "Python 3",
   "language": "python",
   "name": "python3"
  },
  "language_info": {
   "codemirror_mode": {
    "name": "ipython",
    "version": 3
   },
   "file_extension": ".py",
   "mimetype": "text/x-python",
   "name": "python",
   "nbconvert_exporter": "python",
   "pygments_lexer": "ipython3",
   "version": "3.8.3"
  }
 },
 "nbformat": 4,
 "nbformat_minor": 4
}
